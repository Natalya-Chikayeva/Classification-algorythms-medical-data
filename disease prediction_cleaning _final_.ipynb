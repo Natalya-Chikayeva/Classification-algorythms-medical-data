{
 "cells": [
  {
   "cell_type": "markdown",
   "id": "89caad32",
   "metadata": {},
   "source": [
    "## Введение "
   ]
  },
  {
   "cell_type": "markdown",
   "id": "287df4f6",
   "metadata": {},
   "source": [
    "С целью проведения практичесского исследования и демонстрации работы методов классификации алгоритмов машинного обучения в данном проекте приведен анализ базы данных пациентов, которые страдают рассеянным склерозом. База данных состоит из 732 пациентов и содержит записи, которые собой представляют данные о медицинских показателях каждого пациента. Результирующей переменной в наборе данных является параметр \"гпс\", который говорит о том, будут ли у пациента ухудшения после проведения терапии. В рамках машиннго обучения данная задача является **бинарной задачей классификации**, где требуется построить алгоритм, способный классифицировать произвольный объект множества  \n",
    "\n",
    "Данный проект содержит следующие разделы: \n",
    "- описание и подготовка базы данных для последующей её предобработки и обучения классификатора;\n",
    "- разделение базы данных на две выборки - обучающую и тестовую;\n",
    "- обучение различных моделей классификации на обучающем наборе данных;\n",
    "- тестирование классификатора на тестовом наборе данных и расчет метрик и показателей качества в сравнении в реальными результатам\n",
    "- выводы\n",
    "\n",
    "В целом, в последние годы в медицине все чаще и эффективнее используются методы машинного обучения, так как данный технологический сектор особенно востребован в вопросах установления диагнозов пациентов, расчета оптимальных доз препаратов, предсказания процесса течения заболеваний и прочих вопросах. Таким образом, настоящий проект имеет практическое значение и может быть использован в качестве основы для медицинских целей. "
   ]
  },
  {
   "cell_type": "markdown",
   "id": "5accda30",
   "metadata": {},
   "source": [
    "### Описание и подготовка базы данных для последующей её предобработки и обучения классификатора"
   ]
  },
  {
   "cell_type": "markdown",
   "id": "30b3efc3",
   "metadata": {},
   "source": [
    "Для начала работы требуется загрузка основных библиотек для работы с данными. Среди основных библиотек выгружена библиотека Scikit-Learn, которая упрощает процесс создания, обучения, тестирования и измерения классификатора "
   ]
  },
  {
   "cell_type": "code",
   "execution_count": 240,
   "id": "4f1ba72b",
   "metadata": {},
   "outputs": [],
   "source": [
    "import pandas as pd\n",
    "import numpy as np\n",
    "\n",
    "import sklearn.model_selection \n",
    "from sklearn.ensemble import RandomForestClassifier\n",
    "from sklearn.tree import DecisionTreeClassifier\n",
    "from sklearn.neighbors import KNeighborsClassifier\n",
    "from sklearn.naive_bayes import GaussianNB\n",
    "from sklearn.svm import SVC\n",
    "from sklearn.discriminant_analysis import LinearDiscriminantAnalysis\n",
    "from sklearn.metrics import accuracy_score, confusion_matrix, classification_report\n",
    "\n",
    "import sklearn.preprocessing\n",
    "import sklearn.decomposition\n",
    "import imblearn.over_sampling\n",
    "from imblearn.under_sampling import NearMiss\n",
    "\n",
    "from scipy import stats\n",
    "\n",
    "from matplotlib import pyplot\n",
    "import seaborn as sns"
   ]
  },
  {
   "cell_type": "markdown",
   "id": "831e7ba8",
   "metadata": {},
   "source": [
    "Выгрузка базы данных пациентов производится в формате .csv с выводом первых пяти строк базы, включая шапку таблицы, для предварительнго просмотра. Данные сохранены в переменную df"
   ]
  },
  {
   "cell_type": "code",
   "execution_count": 220,
   "id": "1f760684",
   "metadata": {},
   "outputs": [
    {
     "data": {
      "text/html": [
       "<div>\n",
       "<style scoped>\n",
       "    .dataframe tbody tr th:only-of-type {\n",
       "        vertical-align: middle;\n",
       "    }\n",
       "\n",
       "    .dataframe tbody tr th {\n",
       "        vertical-align: top;\n",
       "    }\n",
       "\n",
       "    .dataframe thead th {\n",
       "        text-align: right;\n",
       "    }\n",
       "</style>\n",
       "<table border=\"1\" class=\"dataframe\">\n",
       "  <thead>\n",
       "    <tr style=\"text-align: right;\">\n",
       "      <th></th>\n",
       "      <th>гпс+</th>\n",
       "      <th>гпс</th>\n",
       "      <th>пол</th>\n",
       "      <th>Препарат</th>\n",
       "      <th>препарат до</th>\n",
       "      <th>Активность до</th>\n",
       "      <th>EDSS на</th>\n",
       "      <th>обострдо</th>\n",
       "      <th>Инъектор</th>\n",
       "      <th>Время</th>\n",
       "      <th>...</th>\n",
       "      <th>ларингит, трахеит</th>\n",
       "      <th>ИМочП</th>\n",
       "      <th>пиелрнфрит</th>\n",
       "      <th>Герпес</th>\n",
       "      <th>Афты</th>\n",
       "      <th>Изм веса</th>\n",
       "      <th>тонзиллит</th>\n",
       "      <th>пиелонефрит</th>\n",
       "      <th>Тревога</th>\n",
       "      <th>Депрессия</th>\n",
       "    </tr>\n",
       "  </thead>\n",
       "  <tbody>\n",
       "    <tr>\n",
       "      <th>0</th>\n",
       "      <td>13</td>\n",
       "      <td>1</td>\n",
       "      <td>0</td>\n",
       "      <td>31</td>\n",
       "      <td>3.0</td>\n",
       "      <td>0,86</td>\n",
       "      <td>1,0</td>\n",
       "      <td>2</td>\n",
       "      <td>0</td>\n",
       "      <td>20</td>\n",
       "      <td>...</td>\n",
       "      <td>0</td>\n",
       "      <td>0</td>\n",
       "      <td>0</td>\n",
       "      <td>0</td>\n",
       "      <td>0</td>\n",
       "      <td>0</td>\n",
       "      <td>0</td>\n",
       "      <td>0</td>\n",
       "      <td>29</td>\n",
       "      <td>36</td>\n",
       "    </tr>\n",
       "    <tr>\n",
       "      <th>1</th>\n",
       "      <td>21</td>\n",
       "      <td>1</td>\n",
       "      <td>0</td>\n",
       "      <td>32</td>\n",
       "      <td>3.0</td>\n",
       "      <td>0,16</td>\n",
       "      <td>3,5</td>\n",
       "      <td>3</td>\n",
       "      <td>0</td>\n",
       "      <td>20</td>\n",
       "      <td>...</td>\n",
       "      <td>0</td>\n",
       "      <td>1</td>\n",
       "      <td>1</td>\n",
       "      <td>1</td>\n",
       "      <td>0</td>\n",
       "      <td>-1</td>\n",
       "      <td>0</td>\n",
       "      <td>0</td>\n",
       "      <td>29</td>\n",
       "      <td>48</td>\n",
       "    </tr>\n",
       "    <tr>\n",
       "      <th>2</th>\n",
       "      <td>10</td>\n",
       "      <td>1</td>\n",
       "      <td>1</td>\n",
       "      <td>31</td>\n",
       "      <td>3.0</td>\n",
       "      <td>1,24</td>\n",
       "      <td>1,5</td>\n",
       "      <td>3</td>\n",
       "      <td>0</td>\n",
       "      <td>20</td>\n",
       "      <td>...</td>\n",
       "      <td>0</td>\n",
       "      <td>0</td>\n",
       "      <td>0</td>\n",
       "      <td>0</td>\n",
       "      <td>0</td>\n",
       "      <td>2</td>\n",
       "      <td>0</td>\n",
       "      <td>0</td>\n",
       "      <td>35</td>\n",
       "      <td>49</td>\n",
       "    </tr>\n",
       "    <tr>\n",
       "      <th>3</th>\n",
       "      <td>17</td>\n",
       "      <td>1</td>\n",
       "      <td>0</td>\n",
       "      <td>4</td>\n",
       "      <td>3.0</td>\n",
       "      <td>0,60</td>\n",
       "      <td>5,0</td>\n",
       "      <td>6</td>\n",
       "      <td>0</td>\n",
       "      <td>16</td>\n",
       "      <td>...</td>\n",
       "      <td>0</td>\n",
       "      <td>1</td>\n",
       "      <td>0</td>\n",
       "      <td>2</td>\n",
       "      <td>1</td>\n",
       "      <td>0</td>\n",
       "      <td>1</td>\n",
       "      <td>0</td>\n",
       "      <td>27</td>\n",
       "      <td>52</td>\n",
       "    </tr>\n",
       "    <tr>\n",
       "      <th>4</th>\n",
       "      <td>4</td>\n",
       "      <td>0</td>\n",
       "      <td>0</td>\n",
       "      <td>21</td>\n",
       "      <td>0.0</td>\n",
       "      <td>0,10</td>\n",
       "      <td>1,0</td>\n",
       "      <td>1</td>\n",
       "      <td>0</td>\n",
       "      <td>20</td>\n",
       "      <td>...</td>\n",
       "      <td>0</td>\n",
       "      <td>1</td>\n",
       "      <td>0</td>\n",
       "      <td>2</td>\n",
       "      <td>0</td>\n",
       "      <td>0</td>\n",
       "      <td>1</td>\n",
       "      <td>0</td>\n",
       "      <td>26</td>\n",
       "      <td>51</td>\n",
       "    </tr>\n",
       "  </tbody>\n",
       "</table>\n",
       "<p>5 rows × 21 columns</p>\n",
       "</div>"
      ],
      "text/plain": [
       "   гпс+  гпс  пол  Препарат  препарат до Активность до EDSS на  обострдо  \\\n",
       "0    13    1    0        31          3.0          0,86     1,0         2   \n",
       "1    21    1    0        32          3.0          0,16     3,5         3   \n",
       "2    10    1    1        31          3.0          1,24     1,5         3   \n",
       "3    17    1    0         4          3.0          0,60     5,0         6   \n",
       "4     4    0    0        21          0.0          0,10     1,0         1   \n",
       "\n",
       "   Инъектор  Время  ...  ларингит, трахеит  ИМочП  пиелрнфрит  Герпес  Афты  \\\n",
       "0         0     20  ...                  0      0           0       0     0   \n",
       "1         0     20  ...                  0      1           1       1     0   \n",
       "2         0     20  ...                  0      0           0       0     0   \n",
       "3         0     16  ...                  0      1           0       2     1   \n",
       "4         0     20  ...                  0      1           0       2     0   \n",
       "\n",
       "   Изм веса  тонзиллит  пиелонефрит  Тревога  Депрессия  \n",
       "0         0          0            0       29         36  \n",
       "1        -1          0            0       29         48  \n",
       "2         2          0            0       35         49  \n",
       "3         0          1            0       27         52  \n",
       "4         0          1            0       26         51  \n",
       "\n",
       "[5 rows x 21 columns]"
      ]
     },
     "execution_count": 220,
     "metadata": {},
     "output_type": "execute_result"
    }
   ],
   "source": [
    "df = pd.read_csv(\"project_bu.csv\")\n",
    "df.head()"
   ]
  },
  {
   "cell_type": "markdown",
   "id": "5935095f",
   "metadata": {},
   "source": [
    "Для более детального рассмотрения имеющихся данных и проведения анализа необходимости какой-либо дальнейшей предобработки, необходимо воспользоваться некоторыми методами и функциями библиотеки Pandas, а именно:\n",
    "- метод *.shape* показывает имеющееся количество строк и столбцов в наборе данных;\n",
    "- функция *.info()* показывает такие детали как наименования столбцов, количсетво ненулевых строк в каждом столбце, типы данных, общий размер и проч. "
   ]
  },
  {
   "cell_type": "code",
   "execution_count": 221,
   "id": "8385aac1",
   "metadata": {},
   "outputs": [
    {
     "name": "stdout",
     "output_type": "stream",
     "text": [
      "Размер исходного набора данных:  (732, 21)\n"
     ]
    }
   ],
   "source": [
    "print (\"Размер исходного набора данных: \", df.shape)"
   ]
  },
  {
   "cell_type": "code",
   "execution_count": 222,
   "id": "fe7fa57b",
   "metadata": {},
   "outputs": [
    {
     "name": "stdout",
     "output_type": "stream",
     "text": [
      "<class 'pandas.core.frame.DataFrame'>\n",
      "RangeIndex: 732 entries, 0 to 731\n",
      "Data columns (total 21 columns):\n",
      " #   Column             Non-Null Count  Dtype  \n",
      "---  ------             --------------  -----  \n",
      " 0   гпс+               732 non-null    int64  \n",
      " 1   гпс                732 non-null    int64  \n",
      " 2   пол                732 non-null    int64  \n",
      " 3   Препарат           732 non-null    int64  \n",
      " 4   препарат до        731 non-null    float64\n",
      " 5   Активность до      732 non-null    object \n",
      " 6   EDSS на            732 non-null    object \n",
      " 7   обострдо           732 non-null    int64  \n",
      " 8   Инъектор           732 non-null    int64  \n",
      " 9   Время              732 non-null    int64  \n",
      " 10  ИДыхП              732 non-null    int64  \n",
      " 11  ларингит, трахеит  732 non-null    int64  \n",
      " 12  ИМочП              732 non-null    int64  \n",
      " 13  пиелрнфрит         732 non-null    int64  \n",
      " 14  Герпес             732 non-null    int64  \n",
      " 15  Афты               732 non-null    int64  \n",
      " 16  Изм веса           732 non-null    int64  \n",
      " 17  тонзиллит          732 non-null    int64  \n",
      " 18  пиелонефрит        732 non-null    int64  \n",
      " 19  Тревога            732 non-null    int64  \n",
      " 20  Депрессия          732 non-null    int64  \n",
      "dtypes: float64(1), int64(18), object(2)\n",
      "memory usage: 120.2+ KB\n"
     ]
    }
   ],
   "source": [
    "df.info()"
   ]
  },
  {
   "cell_type": "markdown",
   "id": "fa87d152",
   "metadata": {},
   "source": [
    "Исходя из информации, полученной выше, возможно сделать первые выводы о структуре и объеме данных, среди которых:\n",
    "- база данных имеет размер из 731 строк (количество пациентов) и 21 столбцов (медицинские показания);\n",
    "- большинство показателй имеют цифровые дробные и целые значения (float, integer), но при этом в наборе данных имеются показатели с типом данных object. Этот факт необходимо учитывать и откорректировать до начала обучения модели классификатора, так как модели машинного обучения работают только с цифровыми значениями;\n",
    "- в таблице невооруженным взглядом видно, что некоторые столбцы содержат дробные значения, разделенные запятой, это означает, что такие запятые нужно заменить на точки для возможности дальнейших математичсеких манипуляций с данными в таблице;\n",
    "- большинство показателй не имеют нулевых пропущенных значений, за исключением одного, который также нужно будет откорректировать в ходе подготовки к обучению модели. "
   ]
  },
  {
   "cell_type": "markdown",
   "id": "e8c59ed2",
   "metadata": {},
   "source": [
    "Как указано выше, требуется замена запятых на точки и изменение типа некоторых показателей на цифровой:"
   ]
  },
  {
   "cell_type": "code",
   "execution_count": 223,
   "id": "b1899731",
   "metadata": {},
   "outputs": [],
   "source": [
    "# замена запятых на точки\n",
    "df['Активность до'] = [x.replace(',', '.') for x in df['Активность до']]\n",
    "df['EDSS на'] = [x.replace(',', '.') for x in df['EDSS на']]\n",
    "\n",
    "# изменение типа данных на цифровой \n",
    "df['Активность до'] = df['Активность до'].astype(float)\n",
    "df['EDSS на'] = df['EDSS на'].astype(float)"
   ]
  },
  {
   "cell_type": "markdown",
   "id": "766cc2e2",
   "metadata": {},
   "source": [
    "### Разделение базы данных на две выборки: обучающую и тестовую"
   ]
  },
  {
   "cell_type": "markdown",
   "id": "3365d046",
   "metadata": {},
   "source": [
    "При построении предсказательных моделей в машинном обучении исходный набор данных должен быть разделен на обучающий (train) и тестовый (test) набор. Обучающий набор данных должен быть использован для обучения предсказательной модели, при этом тестовая выборка нужна для оценки прогнозных свойств модели на новых данных, т.е. данных, которые не использовались для обучения модели. \n",
    "\n",
    "Обучающая и тестовые выборки установлены с пропорцией 50-50% от первоначального объема данных \n",
    "\n",
    "Указанные выборки сохранены в переменные df_train, df_test"
   ]
  },
  {
   "cell_type": "code",
   "execution_count": 224,
   "id": "66b251ae",
   "metadata": {},
   "outputs": [
    {
     "name": "stdout",
     "output_type": "stream",
     "text": [
      "Размер обучающей выборки: (512, 21)\n",
      "Размер тестовой выборки: (220, 21)\n"
     ]
    }
   ],
   "source": [
    "# разделение базы данных на две выборки: обучающую и тестовую\n",
    "df_train, df_test = sklearn.model_selection.train_test_split(df, test_size = 0.3)\n",
    "\n",
    "# вывод результатов с объемом выборок \n",
    "print(\"Размер обучающей выборки:\", df_train.shape)\n",
    "print(\"Размер тестовой выборки:\", df_test.shape)"
   ]
  },
  {
   "cell_type": "markdown",
   "id": "2bde7e23",
   "metadata": {},
   "source": [
    "Как было отмечено ранее, в исходном наборе данных имеются точечные пропуски данных, поэтому для дальнейшей работоспособности предсказательной модели нужно удалить строки с такими пропусками: "
   ]
  },
  {
   "cell_type": "code",
   "execution_count": 225,
   "id": "de7e7e10",
   "metadata": {},
   "outputs": [
    {
     "name": "stdout",
     "output_type": "stream",
     "text": [
      "Размер обучающей выборки после очистки: (511, 21)\n",
      "Размер тестовой выборки после очистки: (220, 21)\n"
     ]
    }
   ],
   "source": [
    "# удаление пропусков в обучающем и тестовых наборах \n",
    "df_train = df_train.dropna()\n",
    "df_test = df_test.dropna()\n",
    "\n",
    "# вывод результатов с объемом очищенных выборок \n",
    "print(\"Размер обучающей выборки после очистки:\", df_train.shape)\n",
    "print(\"Размер тестовой выборки после очистки:\", df_test.shape)"
   ]
  },
  {
   "cell_type": "markdown",
   "id": "04c1a62d",
   "metadata": {},
   "source": [
    "### Обучение различных моделей классификации на обучающем наборе данных"
   ]
  },
  {
   "cell_type": "markdown",
   "id": "ccc6a431",
   "metadata": {},
   "source": [
    "Первым шагом до начала обучения моделей классификации необходимо разделить обучающий и тестовый наборы данных на зависимую переменную (X) и результирующую переменную (Y), также при выделении переменных необходимо удалить столбец \"гпс+\", так как он целевая переменная построена на его основе: "
   ]
  },
  {
   "cell_type": "code",
   "execution_count": 8,
   "id": "8cb09455",
   "metadata": {},
   "outputs": [
    {
     "name": "stdout",
     "output_type": "stream",
     "text": [
      "Размер обучающей выборки с зависимой переменной:  (512, 19)\n",
      "Размер обучающей выборки с результирующей переменной:  (512,)\n",
      "Размер тестовой выборки с зависимой переменной:  (219, 19)\n",
      "Размер тестовой выборки с результирующей переменной:  (219,)\n"
     ]
    }
   ],
   "source": [
    "# выделение результирующей переменной (столбец \"гпс\") в отдельную выборку и удаление данного столбца из оставшейся выборки  \n",
    "x_train = df_train.drop([\"гпс\", \"гпс+\"], axis=1)\n",
    "y_train = df_train[\"гпс\"]\n",
    "\n",
    "x_test = df_test.drop([\"гпс\", \"гпс+\"], axis=1)\n",
    "y_test = df_test[\"гпс\"]\n",
    "\n",
    "# вывод результатов с объемом выборок \n",
    "print(\"Размер обучающей выборки с зависимой переменной: \", x_train.shape)\n",
    "print(\"Размер обучающей выборки с результирующей переменной: \", y_train.shape)\n",
    "\n",
    "print(\"Размер тестовой выборки с зависимой переменной: \", x_test.shape)\n",
    "print(\"Размер тестовой выборки с результирующей переменной: \", y_test.shape)"
   ]
  },
  {
   "cell_type": "markdown",
   "id": "48578dfa",
   "metadata": {},
   "source": [
    "Учитывая тот факт, что имеющийся набор данных содержит коллекцию размеченных образцов, в данном проекте целесообразнее всего применить алгоритмы машинного обучения, относящиеся к типу машинного обучения \"с учителем\". Цель алгоритма машинного обучения с учителем состоит в том чтобы на основе набора данных создать модель, которая принимает вектор признаков Х на входе и возвращает информаацию, которая позволяет определить метку для этого вектора признака, как это описано в книге Андрея Буркова \"Машинное обучение без лишних слов\", 2020"
   ]
  },
  {
   "cell_type": "markdown",
   "id": "73c3f02d",
   "metadata": {},
   "source": [
    "Другими словами, чтобы алгоритм относился к обучению с учителем, он должен работать с выборками, которые содержат в себе не только вектор независимых переменных (Х), но и результирующее (целевое) значение (Y). Разница между результирующим и фактическим результатом модели называется ошибкой обучения, которая минимизируется в процессе обучения модели и выступает в качестве «учителя». Значение выходной ошибки будет использовано для расчета показателей качества модели. \n",
    "\n",
    "В настоящем проекте основной целью является построение предстказательной модели классификации. В настоящее время уже разработаны алгоритмы обучения с учителем, каждый из которых имеет плюсы и минусы. Не существует единого универсального алгоритма машинного обучения, который бы подходил для всех задач анализа.\n",
    "\n",
    "К числу алгоритмов обучения с учителем для решения задач классификации относятся:\n",
    "\n",
    "1. деревья решений;\n",
    "2. метод опорных векторов (SVM);\n",
    "3. байесовский классификатор;\n",
    "4. линейный дискриминантный анализ;\n",
    "5. метод k-ближайших соседей;\n",
    "6. рандомный лес\n",
    "\n",
    "Все перечисленные выше алгоритмы будут обучены в данном проекте для сравнения и выявления наилучшего с наиболее оптимальными параметрами качества.  \n",
    "\n",
    "Loginom. Обучение с учителем (Supervised learning): https://wiki.loginom.ru/articles/supervised-learning.html"
   ]
  },
  {
   "cell_type": "markdown",
   "id": "6a1233cd",
   "metadata": {},
   "source": [
    "Далее в проекте будут последовательно обучены вышеописанные модели для решения задачи классификации с расчетом точности каждой модели (accuracy) для последующего выбора наилучшей модели в следующей последовательности действий:\n",
    "- обучение модели классификации на обучающем наборе данных;\n",
    "- тестирование классификатора на тестовом наборе данных, расчет метрик и показателей качества в сравнении в реальными результатам\n",
    "- выбор наиболее оптимальной модели"
   ]
  },
  {
   "cell_type": "markdown",
   "id": "e996e262",
   "metadata": {},
   "source": [
    "### 1. Деревья решений"
   ]
  },
  {
   "cell_type": "markdown",
   "id": "f5ab7458",
   "metadata": {},
   "source": [
    "Дерево решений — это метод представления решающих правил в иерархической структуре, состоящей из элементов двух типов — узлов (node) и листьев (leaf). В узлах находятся решающие правила и производится проверка соответствия примеров этому правилу по какому-либо атрибуту обучающего множества. В простейшем случае, в результате проверки, множество примеров, попавших в узел, разбивается на два подмножества, в одно из которых попадают примеры, удовлетворяющие правилу, а в другое — не удовлетворяющие.\n",
    "\n",
    "Затем к каждому подмножеству вновь применяется правило и процедура рекурсивно повторяется пока не будет достигнуто некоторое условие остановки алгоритма. В результате в последнем узле проверка и разбиение не производится и он объявляется листом. Лист определяет решение для каждого попавшего в него примера. Для дерева классификации — это класс, ассоциируемый с узлом, а для дерева регрессии — соответствующий листу модальный интервал целевой переменной.\n",
    "\n",
    "Loginom. Деревья решений — один из методов автоматического анализа данных. Разбираем общие принципы работы и области применения:  https://loginom.ru/blog/decision-tree"
   ]
  },
  {
   "cell_type": "code",
   "execution_count": 9,
   "id": "f2a23854",
   "metadata": {},
   "outputs": [
    {
     "data": {
      "text/plain": [
       "DecisionTreeClassifier()"
      ]
     },
     "execution_count": 9,
     "metadata": {},
     "output_type": "execute_result"
    }
   ],
   "source": [
    "decision_tree = DecisionTreeClassifier()\n",
    "decision_tree.fit(x_train, y_train)"
   ]
  },
  {
   "cell_type": "markdown",
   "id": "337bb592",
   "metadata": {},
   "source": [
    "### 2. Метод опорных векторов (SVM)"
   ]
  },
  {
   "cell_type": "markdown",
   "id": "9f3cba9d",
   "metadata": {},
   "source": [
    "Метод опорных векторов (англ. support vector machine, SVM) — один из наиболее популярных методов обучения, который применяется для решения задач классификации и регрессии. Основная идея метода заключается в построении гиперплоскости, разделяющей объекты выборки оптимальным способом. Алгоритм работает в предположении, что чем больше расстояние (зазор) между разделяющей гиперплоскостью и объектами разделяемых классов, тем меньше будет средняя ошибка классификатора.\n",
    "\n",
    "Университет ИТМО. Метод опорных векторов (SVM): https://neerc.ifmo.ru/wiki/index.php"
   ]
  },
  {
   "cell_type": "code",
   "execution_count": 10,
   "id": "89d0cfad",
   "metadata": {},
   "outputs": [
    {
     "data": {
      "text/plain": [
       "SVC()"
      ]
     },
     "execution_count": 10,
     "metadata": {},
     "output_type": "execute_result"
    }
   ],
   "source": [
    "svm_model = SVC()\n",
    "svm_model.fit(x_train, y_train)"
   ]
  },
  {
   "cell_type": "markdown",
   "id": "e8a33b10",
   "metadata": {},
   "source": [
    "### 3. Байесовский классификатор"
   ]
  },
  {
   "cell_type": "markdown",
   "id": "4ebc46c8",
   "metadata": {},
   "source": [
    "Байесовский классификатор — широкий класс алгоритмов классификации, основанный на принципе максимума апостериорной вероятности. Для классифицируемого объекта вычисляются функции правдоподобия каждого из классов, по ним вычисляются апостериорные вероятности классов. Объект относится к тому классу, для которого апостериорная вероятность максимальна.\n",
    "\n",
    "Распознование. Байесовский классификатор: http://www.machinelearning.ru/wiki/index.php"
   ]
  },
  {
   "cell_type": "code",
   "execution_count": 11,
   "id": "a6c9f680",
   "metadata": {},
   "outputs": [
    {
     "data": {
      "text/plain": [
       "GaussianNB()"
      ]
     },
     "execution_count": 11,
     "metadata": {},
     "output_type": "execute_result"
    }
   ],
   "source": [
    "gnb = GaussianNB()\n",
    "gnb.fit(x_train, y_train)"
   ]
  },
  {
   "cell_type": "markdown",
   "id": "7a518477",
   "metadata": {},
   "source": [
    "### 4. Линейный дискриминантный анализ"
   ]
  },
  {
   "cell_type": "markdown",
   "id": "2880129f",
   "metadata": {},
   "source": [
    "Линейный дискриминантный анализ (ЛДА), а также связанный с ним линейный дискриминант Фишера — методы статистики и машинного обучения, применяемые для нахождения линейных комбинаций признаков, наилучшим образом разделяющих два или более класса объектов или событий. Полученная комбинация может быть использована в качестве линейного классификатора или для сокращения размерности пространства признаков перед последующей классификацией.\n",
    "\n",
    "Распознование. Линейный дискриминантный анализ: http://www.machinelearning.ru/wiki/index.php"
   ]
  },
  {
   "cell_type": "code",
   "execution_count": 12,
   "id": "89cd66ed",
   "metadata": {},
   "outputs": [
    {
     "data": {
      "text/plain": [
       "LinearDiscriminantAnalysis()"
      ]
     },
     "execution_count": 12,
     "metadata": {},
     "output_type": "execute_result"
    }
   ],
   "source": [
    "lda = LinearDiscriminantAnalysis()\n",
    "lda.fit(x_train, y_train)"
   ]
  },
  {
   "cell_type": "markdown",
   "id": "6a168758",
   "metadata": {},
   "source": [
    "### 5. Метод k-ближайших соседей"
   ]
  },
  {
   "cell_type": "markdown",
   "id": "100a3b2e",
   "metadata": {},
   "source": [
    "Метод k-ближайших соседей используется для решения задачи классификации. Он относит объекты к классу, которому принадлежит большинство из k его ближайших соседей в многомерном пространстве признаков. Это один из простейших алгоритмов обучения классификационных моделей.\n",
    "\n",
    "Loginom. Метод k-ближайших соседей (K-nearest neighbor): https://wiki.loginom.ru/articles/k-nearest-neighbor.html"
   ]
  },
  {
   "cell_type": "code",
   "execution_count": 13,
   "id": "7c0ccdad",
   "metadata": {},
   "outputs": [
    {
     "data": {
      "text/plain": [
       "KNeighborsClassifier()"
      ]
     },
     "execution_count": 13,
     "metadata": {},
     "output_type": "execute_result"
    }
   ],
   "source": [
    "knn = KNeighborsClassifier()\n",
    "knn.fit(x_train, y_train)"
   ]
  },
  {
   "cell_type": "markdown",
   "id": "e52a1a2e",
   "metadata": {},
   "source": [
    "### 6. Рандомный лес"
   ]
  },
  {
   "cell_type": "markdown",
   "id": "07bd9a56",
   "metadata": {},
   "source": [
    "Алгоритм случайного леса (Random Forest) — универсальный алгоритм машинного обучения, суть которого состоит в использовании ансамбля решающих деревьев. Само по себе решающее дерево предоставляет крайне невысокое качество классификации, но из-за большого их количества результат значительно улучшается.\n",
    "\n",
    "Proglib. Машинное обучение для начинающих: алгоритм случайного леса (Random Forest): https://proglib.io/p/mashinnoe-obuchenie-dlya-nachinayushchih-algoritm-sluchaynogo-lesa-random-forest-2021-08-12"
   ]
  },
  {
   "cell_type": "code",
   "execution_count": 14,
   "id": "64b4c71d",
   "metadata": {},
   "outputs": [
    {
     "data": {
      "text/plain": [
       "RandomForestClassifier()"
      ]
     },
     "execution_count": 14,
     "metadata": {},
     "output_type": "execute_result"
    }
   ],
   "source": [
    "forest = RandomForestClassifier()\n",
    "forest.fit(x_train, y_train)"
   ]
  },
  {
   "cell_type": "markdown",
   "id": "45e2b95b",
   "metadata": {},
   "source": [
    "### Тестирование классификатора на тестовом наборе данных и расчет метрик и показателей качества в сравнении в реальными результатам"
   ]
  },
  {
   "cell_type": "markdown",
   "id": "0791648b",
   "metadata": {},
   "source": [
    "Следующим шагом будет проведено тестирование каждого из полученных классификаторов на тестовом наборе данных (x_test):"
   ]
  },
  {
   "cell_type": "code",
   "execution_count": 15,
   "id": "56153b1f",
   "metadata": {},
   "outputs": [],
   "source": [
    "# 1. Деревья решений\n",
    "y_pred_test_DT = decision_tree.predict(x_test)\n",
    "\n",
    "# 2. Метод опорных векторов (SVM)\n",
    "y_pred_test_svm = svm_model.predict(x_test)\n",
    "\n",
    "# 3. Байесовский классификатор\n",
    "y_pred_test_GNB = gnb.predict(x_test)\n",
    "\n",
    "# 4. Линейный дискриминантный анализ\n",
    "y_pred_test_lda = lda.predict(x_test)\n",
    "\n",
    "# 5. Метод k-ближайших соседей\n",
    "y_pred_test_knn = knn.predict(x_test)\n",
    "\n",
    "# 6. Рандомный лес\n",
    "y_pred_test_RF = forest.predict(x_test)"
   ]
  },
  {
   "cell_type": "markdown",
   "id": "735af82c",
   "metadata": {},
   "source": [
    "Для получения первичной метрики качества моделей, необходимо сравнить получившиеся результаты предсказаний (y_pred_test) с реальными данными из исходного набора данных (y_test) и рассчитать точность каждой модели (accuracy). Для удобства сранения, информация приведена в нижеследующем виде:"
   ]
  },
  {
   "cell_type": "code",
   "execution_count": 16,
   "id": "36631e3a",
   "metadata": {},
   "outputs": [
    {
     "name": "stdout",
     "output_type": "stream",
     "text": [
      "1.Деревья решений:                 0.7077625570776256\n",
      "2.Метод опорных векторов (SVM):     0.6255707762557078\n",
      "3.Байесовский классификатор:         0.6575342465753424\n",
      "4.Линейный дискриминантный анализ:   0.639269406392694\n",
      "5.Метод k-ближайших соседей:        0.6757990867579908\n",
      "6.Рандомный лес:                   0.7077625570776256\n"
     ]
    }
   ],
   "source": [
    "print (\"1.Деревья решений:                \", accuracy_score(y_test, y_pred_test_DT))\n",
    "print (\"2.Метод опорных векторов (SVM):    \", accuracy_score(y_test, y_pred_test_svm))\n",
    "print (\"3.Байесовский классификатор:        \", accuracy_score(y_test, y_pred_test_GNB))\n",
    "print (\"4.Линейный дискриминантный анализ:  \", accuracy_score(y_test, y_pred_test_lda))\n",
    "print (\"5.Метод k-ближайших соседей:       \", accuracy_score(y_test, y_pred_test_knn))\n",
    "print (\"6.Рандомный лес:                  \", accuracy_score(y_test, y_pred_test_RF))"
   ]
  },
  {
   "cell_type": "markdown",
   "id": "ccd69c50",
   "metadata": {},
   "source": [
    "На основании полученных данных можно сделать вывод о том, что в рамках данного проекта наиболее оптимальные результаты показала модель \"Рандомный лес\", точность модели составила более 70%. "
   ]
  },
  {
   "cell_type": "markdown",
   "id": "6ff12046",
   "metadata": {},
   "source": [
    "На следующем шаге необходмо рассмотреть метрики с показателями качества модели в комплексе. Для этого можно воспользоваться функцией classification_report() для алгоритма \"Рандомный лес\" и матрицу ошибок confusion_matrix"
   ]
  },
  {
   "cell_type": "code",
   "execution_count": 17,
   "id": "2826f6f6",
   "metadata": {},
   "outputs": [
    {
     "name": "stdout",
     "output_type": "stream",
     "text": [
      "              precision    recall  f1-score   support\n",
      "\n",
      "           0       0.72      0.81      0.76       127\n",
      "           1       0.68      0.57      0.62        92\n",
      "\n",
      "    accuracy                           0.71       219\n",
      "   macro avg       0.70      0.69      0.69       219\n",
      "weighted avg       0.71      0.71      0.70       219\n",
      "\n"
     ]
    }
   ],
   "source": [
    "print(classification_report(y_test, y_pred_test_RF))"
   ]
  },
  {
   "cell_type": "markdown",
   "id": "1a9728d8",
   "metadata": {},
   "source": [
    "*Precision* показывает долю объектов, названных классификатором положительными и при этом действительно являющимися таковыми \n",
    "\n",
    "*Recall* показывает, какую долю объектов положительного класса из всех объектов положительного класса нашел алгоритм"
   ]
  },
  {
   "cell_type": "code",
   "execution_count": 18,
   "id": "45384ef6",
   "metadata": {},
   "outputs": [
    {
     "name": "stdout",
     "output_type": "stream",
     "text": [
      "[[103  24]\n",
      " [ 40  52]]\n"
     ]
    }
   ],
   "source": [
    "cm = sklearn.metrics.confusion_matrix(y_test, y_pred_test_RF)\n",
    "print (cm)"
   ]
  },
  {
   "cell_type": "markdown",
   "id": "13106a98",
   "metadata": {},
   "source": [
    "Матрица ошибок показывает, что количество ложноположительных (44) и ложноотрицаильных (19) предсказаний гораздо меньше, чем корректно предсказанных случаев (99 + 60)"
   ]
  },
  {
   "cell_type": "markdown",
   "id": "1a519484",
   "metadata": {},
   "source": [
    "### Анализ важности признаков"
   ]
  },
  {
   "cell_type": "markdown",
   "id": "726745a5",
   "metadata": {},
   "source": [
    "Рассмотренные выше алгоритмы в ходе расчета предсказаний формируют набор коэффициентов для использования во взвешенной сумме. Эти коэффициенты можно использовать непосредственно в качестве оценки важности признаков. Произведем оценку важности признаков в модели \"Рандомный лес\", которая показала наиболее оптимальный результат. "
   ]
  },
  {
   "cell_type": "code",
   "execution_count": 19,
   "id": "56194cd7",
   "metadata": {},
   "outputs": [
    {
     "data": {
      "text/plain": [
       "Text(0.5, 0, 'Random Forest Feature Importance')"
      ]
     },
     "execution_count": 19,
     "metadata": {},
     "output_type": "execute_result"
    },
    {
     "data": {
      "image/png": "[encoded data removed]",
      "text/plain": [
       "<Figure size 432x288 with 1 Axes>"
      ]
     },
     "metadata": {
      "needs_background": "light"
     },
     "output_type": "display_data"
    }
   ],
   "source": [
    "sorted_idx = forest.feature_importances_.argsort()\n",
    "pyplot.barh(x_train.columns[sorted_idx], forest.feature_importances_[sorted_idx])\n",
    "pyplot.xlabel(\"Random Forest Feature Importance\")"
   ]
  },
  {
   "cell_type": "markdown",
   "id": "b72d1ac8",
   "metadata": {},
   "source": [
    "Выполнение примера соответствует модели, а затем сообщает значение коэффициента для каждой функции. Результаты предполагают, что, несколько функций важны для предсказания, наиболее существенные, как это видно в диаграмме, это:\n",
    "\n",
    "- Депрессия\n",
    "- Активность до\n",
    "- Препарат\n",
    "- Тревога\n",
    "\n",
    "У прочих параметров, согласно информации на полученной диаграмме, уровень существенности признаков для модели гораздо ниже. Важно отметить, что даже у параметра, имеющего наибольшую важность для модели, коэфициент связи не достаточно высок для того, чтобы итоговая модель имела достаточно высокий уровень точности (менее 0.2%). \n",
    "\n",
    "Для дальнешего увеличения производительности полученной модели, которая показала наилучший результат в базовом виде, потребуется анализ с точки зрения необходимости очистки исхоных данных и препроцессинга признаков, которые рассмотрены далее в проекте "
   ]
  },
  {
   "cell_type": "markdown",
   "id": "04dd5cfd",
   "metadata": {},
   "source": [
    "## Чистка данных "
   ]
  },
  {
   "cell_type": "markdown",
   "id": "8b3f4c4e",
   "metadata": {},
   "source": [
    "Для улучшения производительности любой модели как для решения задач классификации, так и для задач регрессии, требуется предварительная обработка и очистка исходных данных в наборе. Очистка данных – это процесс обнаружения и исправления (или удаления) поврежденных или неточных записей из набора записей, таблицы или базы данных. Процесс включает в себя выявление неполных, неправильных, неточных или несущественных данных, а затем замену, изменение или удаление «загрязненных» данных. Одной из важных проблем, которую помогает решить очистка данных является замена, восстановление или удаление пустых или неифрмативных данных.  \n",
    "\n",
    "Рассмотрим имеющийся исходный набор данных с точки зрения наличия пропусков в нем. Учитывая, что признаков в наборе не очень много, можно визуализировать пропущенные значения с помощью тепловой карты"
   ]
  },
  {
   "cell_type": "code",
   "execution_count": 20,
   "id": "c166b14f",
   "metadata": {},
   "outputs": [
    {
     "data": {
      "text/plain": [
       "<AxesSubplot:>"
      ]
     },
     "execution_count": 20,
     "metadata": {},
     "output_type": "execute_result"
    },
    {
     "data": {
      "image/png": "[encoded data removed]",
      "text/plain": [
       "<Figure size 432x288 with 2 Axes>"
      ]
     },
     "metadata": {
      "needs_background": "light"
     },
     "output_type": "display_data"
    }
   ],
   "source": [
    "colours = ['#000099', '#ffff00'] \n",
    "sns.heatmap(df.isnull(), cmap=sns.color_palette(colours))"
   ]
  },
  {
   "cell_type": "markdown",
   "id": "d4da1235",
   "metadata": {},
   "source": [
    "Тепловая карта наглядно показывает, что в исходном наборе данных нет каких-либо существенных пропусков и явных пробелов. \n",
    "\n",
    "Методы заполнения пробелов можно применять и для редактирования таблиц данных. Пусть таблица не содержит пробелов, но возникает вопрос о том, нет ли в ней грубых случайных или умышленных ошибок. Для ответа на\n",
    "этот вопрос нужно обнаружить закономерные связи между данными таблицы и проверить, согласуется ли каждый конкретный элемент таблицы с этими закономерностями.\n",
    "\n",
    "Проверка состоит в следующем. Используя обнаруженные закономерности, предсказываются значения элементов таблицы и сравниваются прогнозы с фактическими значениями.\n",
    "\n",
    "Н. Г. Загоруйко, В. В. Татарников. ОБНАРУЖЕНИЕ ОШИБОК И ЗАПОЛНЕНИЕ\n",
    "ПРОБЕЛОВ В КУБАХ ДАННЫХ. Сибирский журнал индустриальной математики Апрель–июнь, 2014. Том XVII, № 2(58)"
   ]
  },
  {
   "cell_type": "code",
   "execution_count": 226,
   "id": "09c41c0f",
   "metadata": {},
   "outputs": [
    {
     "name": "stdout",
     "output_type": "stream",
     "text": [
      "Размер обучающего набора после очистки:  (465, 21)\n",
      "Размер тестового набора после очистки:  (194, 21)\n"
     ]
    }
   ],
   "source": [
    "def drop_numerical_outliers(df, z_thresh=4):\n",
    "    constrains = df.select_dtypes(include=[np.number]) \\\n",
    "        .apply(lambda x: np.abs(stats.zscore(x)) < z_thresh) \\\n",
    "        .all(axis=1)\n",
    "    df.drop(df.index[~constrains], inplace=True)\n",
    "    \n",
    "drop_numerical_outliers(df_train)\n",
    "print (\"Размер обучающего набора после очистки: \", df_train.shape)\n",
    "\n",
    "drop_numerical_outliers(df_test)\n",
    "print (\"Размер тестового набора после очистки: \", df_test.shape)"
   ]
  },
  {
   "cell_type": "markdown",
   "id": "7536a572",
   "metadata": {},
   "source": [
    "После очистки данных от показателей, являющихся отклонением от имеющихся закономерностей, пересохраним переменные с обновленным объемом в тестовых и тренировочных наборах данных"
   ]
  },
  {
   "cell_type": "code",
   "execution_count": 227,
   "id": "3ebf2bb1",
   "metadata": {
    "scrolled": true
   },
   "outputs": [
    {
     "name": "stdout",
     "output_type": "stream",
     "text": [
      "Размер обучающей выборки с зависимой переменной:  (465, 19)\n",
      "Размер обучающей выборки с результирующей переменной:  (465,)\n",
      "Размер тестовой выборки с зависимой переменной:  (194, 19)\n",
      "Размер тестовой выборки с результирующей переменной:  (194,)\n"
     ]
    }
   ],
   "source": [
    "# выделение результирующей переменной (столбец \"гпс\") в отдельную выборку и удаление данного столбца из оставшейся выборки  \n",
    "x_train = df_train.drop([\"гпс\", \"гпс+\"], axis=1)\n",
    "y_train = df_train[\"гпс\"]\n",
    "\n",
    "x_test = df_test.drop([\"гпс\", \"гпс+\"], axis=1)\n",
    "y_test = df_test[\"гпс\"]\n",
    "\n",
    "# вывод результатов с объемом выборок \n",
    "print(\"Размер обучающей выборки с зависимой переменной: \", x_train.shape)\n",
    "print(\"Размер обучающей выборки с результирующей переменной: \", y_train.shape)\n",
    "\n",
    "print(\"Размер тестовой выборки с зависимой переменной: \", x_test.shape)\n",
    "print(\"Размер тестовой выборки с результирующей переменной: \", y_test.shape)"
   ]
  },
  {
   "cell_type": "markdown",
   "id": "d20a245f",
   "metadata": {},
   "source": [
    "На данном этапе очистка данных от показателей, являющихся отклонением от имеющихся закономерностей, завершена"
   ]
  },
  {
   "cell_type": "markdown",
   "id": "4e1bcd82",
   "metadata": {},
   "source": [
    "## Предварительная обработка данных"
   ]
  },
  {
   "cell_type": "markdown",
   "id": "54b14211",
   "metadata": {},
   "source": [
    "Для улучшения продуктивности модели важно, чтобы данные были преобразованы в понятный формат, прежде чем их можно будет обрабатывать. Обработка данных предполагает изменение или отображение формата данных, чтобы преобразовать его из формата необработанных данных в формат, более подходящий для последующего анализа данных."
   ]
  },
  {
   "cell_type": "markdown",
   "id": "5d643198",
   "metadata": {},
   "source": [
    "### Стандартизация"
   ]
  },
  {
   "cell_type": "markdown",
   "id": "6ebdabb4",
   "metadata": {},
   "source": [
    "Стандартизацию можно рассматривать как процесс внедрения или разработки стандартов на основе консенсуса. Эти стандарты помогают максимизировать совместимость, воспроизводимость и качество, среди прочего. Когда дело доходит до машинного обучения, стандартизация служит средством сделать метрику данных одинаковой во всех данных. Этот метод можно применять к различным типам данных, таким как значения пикселей для изображений или, в частности, для медицинских данных. Многие алгоритмы машинного обучения, такие как метод опорных векторов и метод k-ближайшего соседа, используют метод стандартизации для изменения масштаба данных.\n",
    "\n",
    "itchef.ru. Предварительная обработка данных для машинного обучения. https://itchef.ru/articles/327494/"
   ]
  },
  {
   "cell_type": "code",
   "execution_count": 228,
   "id": "abe90e4f",
   "metadata": {},
   "outputs": [
    {
     "name": "stdout",
     "output_type": "stream",
     "text": [
      "x_train_standardized: (465, 19)\n",
      "x_test_standardized: (194, 19)\n"
     ]
    }
   ],
   "source": [
    "# Построение модели стандартизации\n",
    "scaler = sklearn.preprocessing.StandardScaler()\n",
    "scaler.fit(x_train)\n",
    "\n",
    "# Масштабирование признаков в обучающем наборе данных \n",
    "x_train_standardized = scaler.transform(x_train)\n",
    "\n",
    "# Масштабирование признаков в тестовом наборе данных \n",
    "x_test_standardized = scaler.transform(x_test)\n",
    "\n",
    "# Вывод итогового объема \n",
    "print(\"x_train_standardized:\", x_train_standardized.shape)\n",
    "print(\"x_test_standardized:\", x_test_standardized.shape)"
   ]
  },
  {
   "cell_type": "markdown",
   "id": "a97b195d",
   "metadata": {},
   "source": [
    "### Уменьшение размерности - метод главных компонент"
   ]
  },
  {
   "cell_type": "markdown",
   "id": "afcfe515",
   "metadata": {},
   "source": [
    "Уменьшение размерности включает в себя выбор или извлечение наиболее важных компонентов (признаков) многомерного набора данных. Scikit-learn предлагает несколько подходов к уменьшению размерности. Одним из них является анализ основных компонентов (PCA).\n",
    "\n",
    "DataStart. Что такое Scikit Learn - гайд по популярной библиотеке Python для начинающих. https://datastart.ru/blog/read/chto-takoe-scikit-learn-gayd-po-populyarnoy-biblioteke-python-dlya-nachinayuschih"
   ]
  },
  {
   "cell_type": "code",
   "execution_count": 229,
   "id": "74965fe2",
   "metadata": {},
   "outputs": [
    {
     "name": "stdout",
     "output_type": "stream",
     "text": [
      "x_train_reduced: (465, 10)\n",
      "x_test_reduced: (194, 10)\n"
     ]
    }
   ],
   "source": [
    "# Построение модели PCA и снижение набора до 10 наиболее важных признаков \n",
    "pca = sklearn.decomposition.PCA(n_components=10)\n",
    "pca.fit(x_train)\n",
    "\n",
    "# Снижение количества признаков в обучающем наборе данных \n",
    "x_train_reduced = pca.transform(x_train)\n",
    "\n",
    "# Снижение количества признаков в тестовом наборе данных \n",
    "x_test_reduced = pca.transform(x_test)\n",
    "\n",
    "# Вывод итогового объема \n",
    "print(\"x_train_reduced:\", x_train_reduced.shape)\n",
    "print(\"x_test_reduced:\", x_test_reduced.shape)"
   ]
  },
  {
   "cell_type": "markdown",
   "id": "309392d9",
   "metadata": {},
   "source": [
    "В результате проведенного метода уменьшения размерности, набор данных сокращен до 10 наиболее информативных признаков "
   ]
  },
  {
   "cell_type": "markdown",
   "id": "e3e1db9c",
   "metadata": {},
   "source": [
    "### Удаление примеров мажоритарного класса - Undersampling"
   ]
  },
  {
   "cell_type": "markdown",
   "id": "3af21066",
   "metadata": {},
   "source": [
    "На данном этапе необходимо провести проверку наличия несбалансированного класса в целевой переменной \"гпс\""
   ]
  },
  {
   "cell_type": "code",
   "execution_count": 239,
   "id": "9067ab13",
   "metadata": {},
   "outputs": [
    {
     "data": {
      "image/png": "[encoded data removed]",
      "text/plain": [
       "<Figure size 288x288 with 1 Axes>"
      ]
     },
     "metadata": {},
     "output_type": "display_data"
    }
   ],
   "source": [
    "df1 = df.groupby('гпс').size()\n",
    "\n",
    "df1.plot(kind='pie', figsize=(4, 4))\n",
    "pyplot.title(\"Диаграмма по выявлению мажоритарного/миноритарного класса\")\n",
    "pyplot.ylabel(\"гпс\")\n",
    "pyplot.show()"
   ]
  },
  {
   "cell_type": "markdown",
   "id": "bc0262d9",
   "metadata": {},
   "source": [
    "Тенденция несбалансированности хорошо просматривается на полученной диаграмме. Класс \"гпс\" равный 0 преобладает над классом, равным 1. Одним из подходов для решения указанной проблемы является применение различных стратегий сэмплинга. Восстановление баланса классов может проходить двумя путями. В первом случае удаляют некоторое количество примеров мажоритарного класса (undersampling), во втором – увеличивают количество примеров миноритарного (oversampling). В настоящем примере применим классические стратегии удаления примеров мажоритарного класса из набора данных"
   ]
  },
  {
   "cell_type": "code",
   "execution_count": 230,
   "id": "5bfc7f88",
   "metadata": {},
   "outputs": [
    {
     "name": "stdout",
     "output_type": "stream",
     "text": [
      "After Undersampling, the shape of train_X: (364, 10)\n",
      "After Undersampling, the shape of train_y: (364,) \n",
      "\n",
      "After Undersampling, counts of label '1': 182\n",
      "After Undersampling, counts of label '0': 182\n"
     ]
    }
   ],
   "source": [
    "# Построение модели undersampling\n",
    "nr = NearMiss()\n",
    "\n",
    "# Применение в обучающем и тестовом наборах данных \n",
    "x_train_balanced, y_train_balanced = nr.fit_resample(x_train_reduced, y_train.ravel())\n",
    "\n",
    "# вывод результатов после применния undersampling\n",
    "print('After Undersampling, the shape of train_X: {}'.format(x_train_balanced.shape))\n",
    "print('After Undersampling, the shape of train_y: {} \\n'.format(y_train_balanced.shape))\n",
    "\n",
    "# вывод результатов после применния undersampling в разрезе классов \n",
    "print(\"After Undersampling, counts of label '1': {}\".format(sum(y_train_balanced == 1)))\n",
    "print(\"After Undersampling, counts of label '0': {}\".format(sum(y_train_balanced == 0)))"
   ]
  },
  {
   "cell_type": "markdown",
   "id": "90f76440",
   "metadata": {},
   "source": [
    "В приведенных результатах видно, что количество показателей в обоих классах сбалансировалось, теперь оба класса равны. "
   ]
  },
  {
   "cell_type": "markdown",
   "id": "06b6e578",
   "metadata": {},
   "source": [
    "## Повторное обучение различных моделей классификации после чистки и предобработки данных "
   ]
  },
  {
   "cell_type": "markdown",
   "id": "a940a22e",
   "metadata": {},
   "source": [
    "После проведенных процедур по улучшению качества данных необходимо повторно построить модель классификации, чтобы рассмотреть разницу в качестве и производительности. Были произведены следующие улучшения, а именно:\n",
    "- чистка данных\n",
    "- стандартизация\n",
    "- уменьшение размерности - метод главных компонент\n",
    "- удаление примеров мажоритарного класса - Undersampling\n",
    "\n",
    "В данном примере повторно построим модель \"Рандомный лес\", которая показала наилучший результат на исходных данных и еще на двух моделях классисикации для сравнения (\"Дерево решений\", \"Метод k-ближайших соседей\")"
   ]
  },
  {
   "cell_type": "code",
   "execution_count": 231,
   "id": "3ffda0ba",
   "metadata": {},
   "outputs": [
    {
     "data": {
      "text/plain": [
       "RandomForestClassifier()"
      ]
     },
     "execution_count": 231,
     "metadata": {},
     "output_type": "execute_result"
    }
   ],
   "source": [
    "# Дерево решений\n",
    "decision_tree_feature = DecisionTreeClassifier()\n",
    "decision_tree_feature.fit(x_train_balanced, y_train_balanced)\n",
    "\n",
    "\n",
    "# Метод k-ближайших соседей\n",
    "knn_feature = KNeighborsClassifier()\n",
    "knn_feature.fit(x_train_balanced, y_train_balanced)\n",
    "\n",
    "\n",
    "# Рандомный лес\n",
    "forest_feature = RandomForestClassifier()\n",
    "forest_feature.fit(x_train_balanced, y_train_balanced)"
   ]
  },
  {
   "cell_type": "code",
   "execution_count": 233,
   "id": "b82963da",
   "metadata": {},
   "outputs": [
    {
     "name": "stdout",
     "output_type": "stream",
     "text": [
      "После обработки:  \n",
      "\n",
      "1.1. Деревья решений_feature:                 0.6804123711340206\n",
      "2.1.Метод k-ближайших соседей_feature:         0.6958762886597938\n",
      "3.1. Рандомный лес_Feature:                   0.7371134020618557\n"
     ]
    }
   ],
   "source": [
    "# Деревья решений \n",
    "y_pred_test_DT_feature = decision_tree_feature.predict(x_test_reduced)\n",
    "\n",
    "\n",
    "# Метод k-ближайших соседей \n",
    "y_pred_test_knn_feature = knn_feature.predict(x_test_reduced)\n",
    "\n",
    "\n",
    "# Рандомный лес- одномерн\n",
    "y_pred_test_RF_feature = forest_feature.predict(x_test_reduced)\n",
    "\n",
    "print (\"После обработки:  \\n\")\n",
    "print (\"1.1. Деревья решений_feature:                \", accuracy_score(y_test, y_pred_test_DT_feature))\n",
    "# print (\"1.2. Деревья решений_PCA:                    \", accuracy_score(y_test, y_pred_test_DT_PCA), \"\\n\")\n",
    "\n",
    "print (\"2.1.Метод k-ближайших соседей_feature:        \", accuracy_score(y_test, y_pred_test_knn_feature))\n",
    "# print (\"2.2.Метод k-ближайших соседей_PCA:            \", accuracy_score(y_test, y_pred_test_knn_PCA), \"\\n\")\n",
    "\n",
    "print (\"3.1. Рандомный лес_Feature:                  \", accuracy_score(y_test, y_pred_test_RF_feature))\n",
    "# print (\"3.2. Рандомный лес_PCA:                      \", accuracy_score(y_test, y_pred_test_RF_PCA))"
   ]
  },
  {
   "cell_type": "markdown",
   "id": "504287ef",
   "metadata": {},
   "source": [
    "Итоговый результат показал, что точность модели \"Рандомный лес\", которая показала наилучший результат на исходных данных, улучшено и итоговая точность увеличена. Для сравнения также рассмотрим показатели по отчету классификации и матрицу ошибок, как и в первой части данного проекта. "
   ]
  },
  {
   "cell_type": "code",
   "execution_count": 234,
   "id": "f670fcc2",
   "metadata": {},
   "outputs": [
    {
     "name": "stdout",
     "output_type": "stream",
     "text": [
      "              precision    recall  f1-score   support\n",
      "\n",
      "           0       0.83      0.69      0.75       113\n",
      "           1       0.65      0.80      0.72        81\n",
      "\n",
      "    accuracy                           0.74       194\n",
      "   macro avg       0.74      0.75      0.74       194\n",
      "weighted avg       0.75      0.74      0.74       194\n",
      "\n"
     ]
    }
   ],
   "source": [
    "print(classification_report(y_test, y_pred_test_RF_feature))"
   ]
  },
  {
   "cell_type": "code",
   "execution_count": 235,
   "id": "c3e751b3",
   "metadata": {},
   "outputs": [
    {
     "name": "stdout",
     "output_type": "stream",
     "text": [
      "[[78 35]\n",
      " [16 65]]\n"
     ]
    }
   ],
   "source": [
    "cm = sklearn.metrics.confusion_matrix(y_test, y_pred_test_RF_feature)\n",
    "print (cm)"
   ]
  },
  {
   "cell_type": "markdown",
   "id": "473a9052",
   "metadata": {},
   "source": [
    "В отчете классификации и матрице ошибок модели \"Рандомный лес\" также видны улучшения качества "
   ]
  },
  {
   "cell_type": "markdown",
   "id": "0ab01ba5",
   "metadata": {},
   "source": [
    "## Выводы"
   ]
  },
  {
   "cell_type": "markdown",
   "id": "a654fd93",
   "metadata": {},
   "source": [
    "В рамках данного проекта была проведена работа по практичесскому исследованию и демонстрации работы методов классификации алгоритмов машинного обучения на основании базы данных пациентов, которые страдают рассеянным склерозом. С помощью алгоритмов машинного обучения выведен классификатор, предсказывающий будут ли у пациента ухудшения после проведения терапии. Из нескольких наиболее подходящих классификаторов, модель \"Рандомный лес\" показал наиболее точный результат предсказания. \n",
    "\n",
    "Вместе с тем, для улучшению производительности модели классификации были произведены некоторые манипуляции по чистке данных и их преобразованию. Были произведены следующие улучшения, а именно:\n",
    "\n",
    "- чистка данных\n",
    "- стандартизация\n",
    "- уменьшение размерности - метод главных компонент\n",
    "- удаление примеров мажоритарного класса - Undersampling\n",
    "\n",
    "В результате произведенных изменений и манипуляций, производительность модели классисикации \"Рандомный лес\" улучшилась и повысилась точность. "
   ]
  },
  {
   "cell_type": "markdown",
   "id": "85872d2b",
   "metadata": {},
   "source": [
    "## Список литературы и ссылки"
   ]
  },
  {
   "cell_type": "markdown",
   "id": "e4e4f9a9",
   "metadata": {},
   "source": [
    "1. Бурков А: Машинное обучение без лишних слов. СПб.: Питер, 2020 (Серия \"Библиотека программиста\"), стр.18-19\n",
    "\n",
    "\n",
    "2. Loginom. Обучение с учителем (Supervised learning) [Электронный ресурс] URL: https://wiki.loginom.ru/articles/supervised-learning.html (Дата обращения: 25.04.2022)\n",
    "\n",
    "\n",
    "3. Loginom. Деревья решений — один из методов автоматического анализа данных. Разбираем общие принципы работы и области применения [Электронный ресурс] URL: https://loginom.ru/blog/decision-tree (Дата обращения: 25.04.2022)\n",
    "\n",
    "\n",
    "4. Университет ИТМО. Метод опорных векторов (SVM) [Электронный ресурс] URL: https://neerc.ifmo.ru/wiki/index.php (Дата обращения: 25.04.2022)\n",
    "\n",
    "\n",
    "5. Распознование. Байесовский классификатор [Электронный ресурс] URL: http://www.machinelearning.ru/wiki/index.php (Дата обращения: 25.04.2022)\n",
    "\n",
    "\n",
    "6. Loginom. Метод k-ближайших соседей (K-nearest neighbor) [Электронный ресурс] URL: https://wiki.loginom.ru/articles/k-nearest-neighbor.html (Дата обращения: 25.04.2022)\n",
    "\n",
    "\n",
    "7. Proglib. Машинное обучение для начинающих: алгоритм случайного леса (Random Forest) [Электронный ресурс] URL: https://proglib.io/p/mashinnoe-obuchenie-dlya-nachinayushchih-algoritm-sluchaynogo-lesa-random-forest-2021-08-12 (Дата обращения: 26.04.2022)\n",
    "\n",
    "\n",
    "8. Н. Г. Загоруйко, В. В. Татарников. ОБНАРУЖЕНИЕ ОШИБОК И ЗАПОЛНЕНИЕ ПРОБЕЛОВ В КУБАХ ДАННЫХ. Сибирский журнал индустриальной математики Апрель–июнь, 2014. Том XVII, № 2(58), стр.  50\n",
    "\n",
    "\n",
    "9. itchef.ru. Предварительная обработка данных для машинного обучения. https://itchef.ru/articles/327494/ (дата обращения 18.05.2022)\n",
    "\n",
    "\n",
    "10. DataStart. Что такое Scikit Learn - гайд по популярной библиотеке Python для начинающих. https://datastart.ru/blog/read/chto-takoe-scikit-learn-gayd-po-populyarnoy-biblioteke-python-dlya-nachinayuschih (дата обращения 18.05.2022)"
   ]
  }
 ],
 "metadata": {
  "kernelspec": {
   "display_name": "Python 3 (ipykernel)",
   "language": "python",
   "name": "python3"
  },
  "language_info": {
   "codemirror_mode": {
    "name": "ipython",
    "version": 3
   },
   "file_extension": ".py",
   "mimetype": "text/x-python",
   "name": "python",
   "nbconvert_exporter": "python",
   "pygments_lexer": "ipython3",
   "version": "3.8.12"
  }
 },
 "nbformat": 4,
 "nbformat_minor": 5
}
